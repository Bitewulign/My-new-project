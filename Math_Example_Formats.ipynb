{
  "cells": [
    {
      "cell_type": "markdown",
      "metadata": {
        "id": "view-in-github",
        "colab_type": "text"
      },
      "source": [
        "<a href=\"https://colab.research.google.com/github/bitewulign/My-new-project/blob/main/Math_Example_Formats.ipynb\" target=\"_parent\"><img src=\"https://colab.research.google.com/assets/colab-badge.svg\" alt=\"Open In Colab\"/></a>"
      ]
    },
    {
      "cell_type": "markdown",
      "id": "eb60924f-e798-4766-81b5-ad9a0c6afa29",
      "metadata": {
        "id": "eb60924f-e798-4766-81b5-ad9a0c6afa29"
      },
      "source": [
        "\n",
        "# Examples.\n",
        "\n",
        "The below are not prompt/answers, but to demonstrate how math rendering in text reasoning should be formatted.\n",
        "\n",
        "- \\$\\$ should not be used as they can be confused with currency; instead replace it with \\\\( \\\\) for inline \\$, and \\\\[ \\\\] for multi-line \\$\\$.\n",
        "\n",
        "- Also see below for multi-line usage of aligned instead of align in \\\\[ \\\\]."
      ]
    },
    {
      "cell_type": "markdown",
      "id": "pXThqq0T5rDx",
      "metadata": {
        "id": "pXThqq0T5rDx"
      },
      "source": []
    },
    {
      "cell_type": "markdown",
      "id": "44ee2dd0-4daa-42ec-8ee5-e31140437ea5",
      "metadata": {
        "id": "44ee2dd0-4daa-42ec-8ee5-e31140437ea5"
      },
      "source": [
        "## Question examples"
      ]
    },
    {
      "cell_type": "markdown",
      "id": "9df106cd-5b92-4cf3-bd6f-87a92ba5bed3",
      "metadata": {
        "id": "9df106cd-5b92-4cf3-bd6f-87a92ba5bed3"
      },
      "source": [
        "### Category: Logic and Sets"
      ]
    },
    {
      "cell_type": "markdown",
      "id": "7a294d6c-e029-43c1-93c1-7c1e6cf362fc",
      "metadata": {
        "id": "7a294d6c-e029-43c1-93c1-7c1e6cf362fc"
      },
      "source": [
        "**User**\n",
        "\n",
        "Prove that the following formula is tautology: \\\\( \\neg(p\\wedge q) \\Leftrightarrow \\neg p \\vee \\neg q  \\\\)"
      ]
    },
    {
      "cell_type": "markdown",
      "id": "2da251eb-f402-4536-be1a-a94df2d474e5",
      "metadata": {
        "id": "2da251eb-f402-4536-be1a-a94df2d474e5"
      },
      "source": [
        "**User**\n",
        "\n",
        "Let's consider the following sets: \\\\(P = \\{a, b, c, d, e\\} \\\\), \\\\(Q = \\{c, d, e, f, g\\} \\\\), \\\\(R = \\{e, f, g, h, i\\} \\\\). Find \\\\((P \\cup Q) \\cap R\\\\)"
      ]
    },
    {
      "cell_type": "markdown",
      "id": "eef3fdb3-f3d6-491e-801d-a9e60a0547a0",
      "metadata": {
        "id": "eef3fdb3-f3d6-491e-801d-a9e60a0547a0"
      },
      "source": [
        "### Category: Proportionality"
      ]
    },
    {
      "cell_type": "markdown",
      "id": "f915a4f4-2c28-4eab-b8f2-1ca347737cbf",
      "metadata": {
        "id": "f915a4f4-2c28-4eab-b8f2-1ca347737cbf"
      },
      "source": [
        "**User**\n",
        "\n",
        "How many liters of water at a temperature of \\\\(12^\\circ \\\\) should be mixed with \\\\(5\\\\) liters of water at a temperature of \\\\(70^\\circ \\\\) to get a mixture of temperature \\\\(37^\\circ \\\\)?"
      ]
    },
    {
      "cell_type": "markdown",
      "id": "1ddad7e6-0154-4acf-b15a-923550dd0416",
      "metadata": {
        "id": "1ddad7e6-0154-4acf-b15a-923550dd0416"
      },
      "source": [
        "### Category: Percentages and Interest Account"
      ]
    },
    {
      "cell_type": "markdown",
      "id": "28d0f4b6-94ef-4d95-b417-55cb2eaf7e73",
      "metadata": {
        "id": "28d0f4b6-94ef-4d95-b417-55cb2eaf7e73"
      },
      "source": [
        "**User**\n",
        "\n",
        "The price of one product was raised by \\\\(10\\%\\\\) and then lowered by \\\\(10\\%\\\\). By what percentage has the price changed compared to the original price?"
      ]
    },
    {
      "cell_type": "markdown",
      "id": "bb72cb16-e841-4e04-b447-c2a5a0db1ec7",
      "metadata": {
        "id": "bb72cb16-e841-4e04-b447-c2a5a0db1ec7"
      },
      "source": [
        "**User**\n",
        "\n",
        "How much interest did a capital of \\\\( \\$ 100260 \\\\), earn in \\\\(60\\\\) days at the rate of \\\\(6\\%\\\\)?"
      ]
    },
    {
      "cell_type": "markdown",
      "id": "dee0facd-7f84-40dd-b8dc-5049583b1eec",
      "metadata": {
        "id": "dee0facd-7f84-40dd-b8dc-5049583b1eec"
      },
      "source": [
        "### Category: Geometry"
      ]
    },
    {
      "cell_type": "markdown",
      "id": "ab1cc96c-7040-4745-878e-95207c7dccf5",
      "metadata": {
        "id": "ab1cc96c-7040-4745-878e-95207c7dccf5"
      },
      "source": [
        "**User**\n",
        "\n",
        "Consider a rectangle \\\\(ABCD\\\\) with length \\\\(l = 12\\\\) and width \\\\(w = 8\\\\). Inside this rectangle, there is a right-angled triangle \\\\(EFG\\\\) such that point \\\\(E\\\\) is on side \\\\(AB\\\\), point \\\\(F\\\\) is on side \\\\(BC\\\\), and \\\\(G\\\\) is on side \\\\(AD\\\\). The right angle is at \\\\(F\\\\). A circle with radius \\\\(r\\\\) is inscribed in triangle \\\\(EFG\\\\), tangent to all three sides of the triangle. Calculate the radius \\\\(r\\\\) of the inscribed circle within the triangle \\\\(EFG\\\\)."
      ]
    },
    {
      "cell_type": "markdown",
      "id": "3086ef6e-4912-47be-a648-f6ecae628354",
      "metadata": {
        "id": "3086ef6e-4912-47be-a648-f6ecae628354"
      },
      "source": [
        "**User**\n",
        "\n",
        "Given a triangle with sides \\\\(1.8 \\\\), \\\\(1.2 \\\\), and \\\\( 1.4 \\\\). determine the sides of a similar triangle of perimeter \\\\(136\\\\)."
      ]
    },
    {
      "cell_type": "markdown",
      "id": "dec227d5-00a9-4159-83c5-a1d61cd93646",
      "metadata": {
        "id": "dec227d5-00a9-4159-83c5-a1d61cd93646"
      },
      "source": [
        "**User**\n",
        "\n",
        "A right circular cylinder is wrapped around a rectangular prism such that the height of the cylinder equals the height of the prism, and the diameter of the cylinder is equal to the width of the prism. If the prism has dimensions \\\\( 4 \\\\) cm by \\\\( 6 \\\\) cm by \\\\( 10 \\\\) cm, calculate the surface area of the cylinder."
      ]
    },
    {
      "cell_type": "markdown",
      "id": "jhlJ_HFETIGP",
      "metadata": {
        "id": "jhlJ_HFETIGP"
      },
      "source": [
        "**User**\n",
        "\n",
        "A straight cylinder whose height is H = \\\\(20\\\\) cm is cut from a plane parallel to its axis at a distance of \\\\(4\\\\) cm from the axis. That plane cuts from the base of the circular segment whose arcs are \\\\(60^\\circ\\\\) . Find the cross-sectional area."
      ]
    },
    {
      "cell_type": "markdown",
      "id": "SY3BacExT3zI",
      "metadata": {
        "id": "SY3BacExT3zI"
      },
      "source": [
        "**User**\n",
        "\n",
        "A regular four-sided pyramid has all edges \\\\(\\sqrt{20}\\\\) cm long. Calculate the radius of the inscribed sphere."
      ]
    },
    {
      "cell_type": "markdown",
      "id": "b8057de1-fbd2-4c18-99f3-69d535bfe808",
      "metadata": {
        "id": "b8057de1-fbd2-4c18-99f3-69d535bfe808"
      },
      "source": [
        "### Category: Rational and Algebraic Expressions"
      ]
    },
    {
      "cell_type": "markdown",
      "id": "2efa28d0-d311-405b-aadb-ac4561dfa56c",
      "metadata": {
        "id": "2efa28d0-d311-405b-aadb-ac4561dfa56c"
      },
      "source": [
        "**User**\n",
        "\n",
        "Simplify expression: \\\\( (2x - 1)^2 + (x - 2)^3 - (2x - 1)(x - 2)\\\\)"
      ]
    },
    {
      "cell_type": "markdown",
      "id": "d321ab40-2afa-45dd-adb3-9d42bd8c54c6",
      "metadata": {
        "id": "d321ab40-2afa-45dd-adb3-9d42bd8c54c6"
      },
      "source": [
        "**User**\n",
        "\n",
        "Find the greatest common divisor (GCD) of:\n",
        "\n",
        "\\\\( A(x) = x^3 + x^2 -4x - 4, B(x) = x^2 + 4x + 3 \\\\)"
      ]
    },
    {
      "cell_type": "markdown",
      "id": "1169ea1e-227e-4757-b94d-61b387245c8b",
      "metadata": {
        "id": "1169ea1e-227e-4757-b94d-61b387245c8b"
      },
      "source": [
        "**User**\n",
        "\n",
        "Solve the equation:\n",
        "\n",
        "\\\\( 1 + \\frac{5}{(x - 3)(x + 2)} = - \\frac{1}{x + 2}\\\\)"
      ]
    },
    {
      "cell_type": "markdown",
      "id": "7ea36496-a4ce-41f6-ba4f-4d923f581ed2",
      "metadata": {
        "id": "7ea36496-a4ce-41f6-ba4f-4d923f581ed2"
      },
      "source": [
        "**User**\n",
        "\n",
        "Solve inaquality:\n",
        "\n",
        "\\\\( |5 - 2x| < 1\\\\)"
      ]
    },
    {
      "cell_type": "markdown",
      "id": "7c042a85-26bf-42b2-baa7-ce1a44678afc",
      "metadata": {
        "id": "7c042a85-26bf-42b2-baa7-ce1a44678afc"
      },
      "source": [
        "**User**\n",
        "\n",
        "Given a triangle with sides \\\\(1.8, 1.2\\\\), and \\\\(1.4\\\\). determine the sides of a similar triangle of perimeter \\\\(136\\\\)."
      ]
    },
    {
      "cell_type": "markdown",
      "id": "8f4ccc90-c8ad-4ac0-8fc8-e2ce675ab82b",
      "metadata": {
        "id": "8f4ccc90-c8ad-4ac0-8fc8-e2ce675ab82b"
      },
      "source": [
        "### Category: Trigonometry"
      ]
    },
    {
      "cell_type": "markdown",
      "id": "b622d725-8eab-4dc6-b0d9-5146f1d10c55",
      "metadata": {
        "id": "b622d725-8eab-4dc6-b0d9-5146f1d10c55"
      },
      "source": [
        "**User**\n",
        "\n",
        "Solve:\n",
        "\n",
        "\\\\( \\frac{1 - 4\\sin^2\\frac{\\pi}{6}}{1 + 4\\cos^2\\frac{\\pi}{6}} \\\\)"
      ]
    },
    {
      "cell_type": "markdown",
      "id": "0e9c44c2-5175-4a7c-b387-33cc612fddaf",
      "metadata": {
        "id": "0e9c44c2-5175-4a7c-b387-33cc612fddaf"
      },
      "source": [
        "**User**\n",
        "\n",
        "Calculate:\n",
        "\n",
        "\\\\( \\frac{\\sin(\\frac{\\pi}{3}) + \\tan(\\frac{\\pi}{4})}{1 - \\cos(\\frac{2\\pi}{3})} \\times ( \\frac{1 + \\cos(\\frac{\\pi}{6})}{\\sin(\\frac{\\pi}{2}) - \\sin(\\frac{\\pi}{6})} ) \\\\)"
      ]
    },
    {
      "cell_type": "markdown",
      "id": "c15460ce-9b97-462a-beb6-6f7f0b3cc591",
      "metadata": {
        "id": "c15460ce-9b97-462a-beb6-6f7f0b3cc591"
      },
      "source": [
        "### Category: Powers and Roots"
      ]
    },
    {
      "cell_type": "markdown",
      "id": "86981887-7cfc-4ca2-91a3-5eda1c9aecb7",
      "metadata": {
        "id": "86981887-7cfc-4ca2-91a3-5eda1c9aecb7"
      },
      "source": [
        "**User**\n",
        "\n",
        "Simplify the following expression to its simplest form:\n",
        "\n",
        "\\\\((\\frac{16x^4y^{-2}}{64x^{-2}y^4})^{\\frac{1}{2}} \\cdot (81x^6y^{-3})^{\\frac{1}{3}}\\\\)"
      ]
    },
    {
      "cell_type": "markdown",
      "id": "be4f9068-01b3-49d4-ad12-f65199d7476d",
      "metadata": {
        "id": "be4f9068-01b3-49d4-ad12-f65199d7476d"
      },
      "source": [
        "**User**\n",
        "\n",
        "Solve for \\(x\\) in the equation:\n",
        "\n",
        "\\\\( \\sqrt{2x + 3} - \\sqrt{x - 1} = 2 \\\\)"
      ]
    },
    {
      "cell_type": "markdown",
      "id": "a0a5e31f-70c4-408d-bcfb-64e7d8894891",
      "metadata": {
        "id": "a0a5e31f-70c4-408d-bcfb-64e7d8894891"
      },
      "source": [
        "### Category: Quadratic Equation and Quadratic Function"
      ]
    },
    {
      "cell_type": "markdown",
      "id": "a8221468-a791-4cec-88a8-80acb33beb57",
      "metadata": {
        "id": "a8221468-a791-4cec-88a8-80acb33beb57"
      },
      "source": [
        "**User**\n",
        "\n",
        "Find real solutions to the equation:\n",
        "\n",
        "\\\\( x^6 + 3x^3 + 2 = 0 \\\\)"
      ]
    },
    {
      "cell_type": "markdown",
      "id": "cedf17ba-0889-4863-a4d1-396314777770",
      "metadata": {
        "id": "cedf17ba-0889-4863-a4d1-396314777770"
      },
      "source": [
        "**User**\n",
        "\n",
        "Solve the inequality:\n",
        "\n",
        "\\\\( \\frac{|2x - 3| + x}{x^2 - 3x + 2} < 1\\\\)"
      ]
    },
    {
      "cell_type": "markdown",
      "id": "e5f9d2a1-8dc7-49b5-a937-7eb9f8d45879",
      "metadata": {
        "id": "e5f9d2a1-8dc7-49b5-a937-7eb9f8d45879"
      },
      "source": [
        "### Category: Exponential and Logarithmic Function"
      ]
    },
    {
      "cell_type": "markdown",
      "id": "af2bdd4e-f13b-4755-9a59-b18b076b782a",
      "metadata": {
        "id": "af2bdd4e-f13b-4755-9a59-b18b076b782a"
      },
      "source": [
        "**User**\n",
        "\n",
        "Solve:\n",
        "\n",
        "\\\\( 5^{x^2 - 3x + 2} = 3^{2x - 4} + 7\\\\)"
      ]
    },
    {
      "cell_type": "markdown",
      "id": "f63c6ad4-1a13-4020-8d6b-d64df2459eeb",
      "metadata": {
        "id": "f63c6ad4-1a13-4020-8d6b-d64df2459eeb"
      },
      "source": [
        "**User**\n",
        "\n",
        "Find domain, zeros, and trend for:\n",
        "\n",
        "\\\\( f(x) = \\log_{\\frac{1}{2}}(3x^2 - 2x + 5) - \\log_{\\frac{1}{2}}(x^2 - 4) \\\\)"
      ]
    },
    {
      "cell_type": "markdown",
      "id": "ec884c2a-4858-4d11-ba2c-a144c431715d",
      "metadata": {
        "id": "ec884c2a-4858-4d11-ba2c-a144c431715d"
      },
      "source": [
        "### Category: Systems of Linear Equations and Inequalities"
      ]
    },
    {
      "cell_type": "markdown",
      "id": "ac783a69-0621-42c9-acfb-e8291a07c72f",
      "metadata": {
        "id": "ac783a69-0621-42c9-acfb-e8291a07c72f"
      },
      "source": [
        "**User**\n",
        "\n",
        "Solve the following system of equations where \\(a\\) and \\(b\\) are parameters:\n",
        "\n",
        "1. \\\\( ax + y + z = a^2 \\\\)\n",
        "2. \\\\( x + by + z = b^2 \\\\)\n",
        "3. \\\\( x + y + abz = 0 \\\\)"
      ]
    },
    {
      "cell_type": "markdown",
      "id": "ec583688-c9d4-470c-a219-d8d1725ce180",
      "metadata": {
        "id": "ec583688-c9d4-470c-a219-d8d1725ce180"
      },
      "source": [
        "**User**\n",
        "\n",
        "A car rental service offers two plans:\n",
        "\n",
        "Plan A charges \\\\( \\$50 \\\\) per day and \\\\( \\$0.20 \\\\) per mile driven.\n",
        "Plan B charges \\\\( \\$70 \\\\) per day with free unlimited mileage.\n",
        "On a particular day, two customers, Customer 1 and Customer 2, rent one car each under different plans and drive them for certain miles, incurring the same total cost. Customer 1 under Plan A drives twice the miles driven by Customer 2 under Plan B.\n",
        "\n",
        "Formulate a system of equations based on the above information and solve for the number of miles driven by each customer and the total cost incurred by each."
      ]
    },
    {
      "cell_type": "markdown",
      "id": "AaPdbBCTWN8e",
      "metadata": {
        "id": "AaPdbBCTWN8e"
      },
      "source": [
        "**User**\n",
        "\n",
        "Calculate value of the determinant:\n",
        "\n",
        "\n",
        "\\begin{bmatrix}\n",
        "0 & 1 & 0 \\\\\n",
        "2 & 3 & 0 \\\\\n",
        "0 & 5 & 0\n",
        "\\end{bmatrix}"
      ]
    },
    {
      "cell_type": "markdown",
      "id": "b719053d-6b29-4f62-91b6-ed9b01e10c22",
      "metadata": {
        "id": "b719053d-6b29-4f62-91b6-ed9b01e10c22"
      },
      "source": [
        "### Category: Analytical Geometry on a Plane"
      ]
    },
    {
      "cell_type": "markdown",
      "id": "bae63725-a7e1-41ab-b32b-3841c2fa0ddb",
      "metadata": {
        "id": "bae63725-a7e1-41ab-b32b-3841c2fa0ddb"
      },
      "source": [
        "**User**\n",
        "\n",
        "Given the points \\\\(A(2, 3)\\\\), \\\\(B(-4, 5)\\\\), and \\\\(C(4, -1)\\\\) in the Cartesian plane, find the coordinates of the intersection point of the perpendicular bisectors of segments \\\\( AB \\\\) and \\\\(AC\\\\)."
      ]
    },
    {
      "cell_type": "markdown",
      "id": "9fde4db2-bdba-4bd1-937a-62919e4a0897",
      "metadata": {
        "id": "9fde4db2-bdba-4bd1-937a-62919e4a0897"
      },
      "source": [
        "**User**\n",
        "\n",
        "Find the distance from the point \\\\(P(3, 4)\\\\) to the line given by the equation \\\\(2x - 5y + 9 = 0\\\\)."
      ]
    },
    {
      "cell_type": "markdown",
      "id": "HPjBF6gJWo2I",
      "metadata": {
        "id": "HPjBF6gJWo2I"
      },
      "source": [
        "**User**\n",
        "\n",
        "Find a point on the ellipse \\\\( 24x^2 + 20y^2 = 720 \\\\) whose distance from the minor axis is equal to \\\\(5\\\\)."
      ]
    },
    {
      "cell_type": "markdown",
      "id": "495d0ca7-9e05-4ff6-a17e-4d3f24d0c5c5",
      "metadata": {
        "id": "495d0ca7-9e05-4ff6-a17e-4d3f24d0c5c5"
      },
      "source": [
        "### Category: Mathematical Induction"
      ]
    },
    {
      "cell_type": "markdown",
      "id": "t5b-XMbvW_qR",
      "metadata": {
        "id": "t5b-XMbvW_qR"
      },
      "source": [
        "**User**\n",
        "\n",
        "Prove that numbes with form \\\\( 2^{2^{n}} (n = 1, 2, \\ldots)\\\\) ends with digit \\\\(7\\\\)."
      ]
    },
    {
      "cell_type": "markdown",
      "id": "V4diNN_iW_zN",
      "metadata": {
        "id": "V4diNN_iW_zN"
      },
      "source": [
        "**User**\n",
        "\n",
        "Evaluate the limit:\n",
        "\n",
        "\\\\( \\lim_{x \\to 2} \\frac{x^4 - 16}{x^3 - 8} \\\\)"
      ]
    },
    {
      "cell_type": "markdown",
      "id": "c75021fe-c9d5-4a37-a0a4-376e1e5f1c90",
      "metadata": {
        "id": "c75021fe-c9d5-4a37-a0a4-376e1e5f1c90"
      },
      "source": [
        "### Category: Complex Numbers and Polinomials"
      ]
    },
    {
      "cell_type": "markdown",
      "id": "T5FLoPjBh0UA",
      "metadata": {
        "id": "T5FLoPjBh0UA"
      },
      "source": [
        "**User**\n",
        "\n",
        "Show that \\\\(\\frac{1}{a + bi} = \\frac{a}{a^2 + b^2} - \\frac{b}{a^2 + b^2}i\\\\) by expressing the quotient as a fraction with a real denominator. Use this result to compute \\\\(\\frac{1}{4 - 3i}\\\\)."
      ]
    },
    {
      "cell_type": "markdown",
      "id": "ZX6ow7_ah0hR",
      "metadata": {
        "id": "ZX6ow7_ah0hR"
      },
      "source": [
        "**User**\n",
        "\n",
        "Using De Moivre's Theorem, calculate \\\\((\\sqrt{3} + i)^6\\\\). Express your answer in standard form \\\\(a + bi\\\\)."
      ]
    },
    {
      "cell_type": "markdown",
      "id": "vTwNEJewiKnY",
      "metadata": {
        "id": "vTwNEJewiKnY"
      },
      "source": [
        "**User**\n",
        "\n",
        "Find the magnitude and argument of the complex number \\\\(z = -3 + 3i\\\\). Use the magnitude and argument to express \\\\(z\\\\) in polar form."
      ]
    },
    {
      "cell_type": "markdown",
      "id": "568a0424-a96f-4acd-b92e-44d6dd43754e",
      "metadata": {
        "id": "568a0424-a96f-4acd-b92e-44d6dd43754e"
      },
      "source": [
        "### Category: Properties of Functions"
      ]
    },
    {
      "cell_type": "markdown",
      "id": "62vFCpvvigXn",
      "metadata": {
        "id": "62vFCpvvigXn"
      },
      "source": [
        "**User**\n",
        "\n",
        "Consider the function \\\\(f(x) = \\frac{1}{x^2 - 9}\\\\).\n",
        "\n",
        "1. What is the domain of \\\\(f(x)\\\\)?\n",
        "2. Determine the range of \\\\(f(x)\\\\).\n"
      ]
    },
    {
      "cell_type": "markdown",
      "id": "gq2WRftwigjT",
      "metadata": {
        "id": "gq2WRftwigjT"
      },
      "source": [
        "**User**\n",
        "\n",
        "Given \\\\(f(x) = 2x + 3\\\\) and \\\\(g(x) = x^2\\\\), find and simplify \\\\(f(g(x))\\\\) and \\\\(g(f(x))\\\\)."
      ]
    },
    {
      "cell_type": "markdown",
      "id": "Wv-kUhx-jvhZ",
      "metadata": {
        "id": "Wv-kUhx-jvhZ"
      },
      "source": [
        "**User**\n",
        "\n",
        "The function \\\\(p(x) = \\cos(2\\pi x) + \\sin(\\pi x)\\\\) is given.\n",
        "\n",
        "1. Determine if \\\\(p(x)\\\\) is periodic. If so, what is the period?\n",
        "2. Is \\\\(p(x)\\\\) an even or odd function, or neither?"
      ]
    },
    {
      "cell_type": "markdown",
      "id": "oDPbylQBkWxQ",
      "metadata": {
        "id": "oDPbylQBkWxQ"
      },
      "source": [
        "**User**\n",
        "\n",
        "Analyze the function \\\\(m(x) = \\ln(x - 1) + 3\\\\).\n",
        "\n",
        "1. Discuss the asymptotic behavior of \\\\(m(x)\\\\) as \\\\(x\\\\) approaches 1 from the right.\n",
        "2. Determine the limit of \\\\(m(x)\\\\) as \\\\(x\\\\) approaches infinity."
      ]
    },
    {
      "cell_type": "markdown",
      "id": "efd48f9f-07f8-4eb2-b6c0-f6ddd4bfc8a1",
      "metadata": {
        "id": "efd48f9f-07f8-4eb2-b6c0-f6ddd4bfc8a1"
      },
      "source": [
        "### Category: Basics of Differential and Integral Calculus"
      ]
    },
    {
      "cell_type": "markdown",
      "id": "QZwgzKWVmbAv",
      "metadata": {
        "id": "QZwgzKWVmbAv"
      },
      "source": [
        "**User**\n",
        "\n",
        "Evaluate the indefinite integral \\\\(\\int \\frac{e^x}{e^{2x} + 3e^x + 2} \\, dx\\\\)."
      ]
    },
    {
      "cell_type": "markdown",
      "id": "jZUKDdY4mbMT",
      "metadata": {
        "id": "jZUKDdY4mbMT"
      },
      "source": [
        "**User**\n",
        "\n",
        "Calculate the definite integral \\\\(\\int_{0}^{\\pi} x \\sin(x) \\, dx\\\\)."
      ]
    },
    {
      "cell_type": "markdown",
      "id": "KeUPIKBwmbWB",
      "metadata": {
        "id": "KeUPIKBwmbWB"
      },
      "source": [
        "**User**\n",
        "\n",
        "---\n",
        "\n",
        "\n",
        "\n",
        "Find the area enclosed between the curves \\\\(y = x^2 - 4x + 5\\) and \\(y = -x^2 + 4x + 3\\\\) over the interval \\\\([1, 3]\\\\)."
      ]
    },
    {
      "cell_type": "markdown",
      "id": "fad7a6d3-2dad-4f69-9511-b3728d79d674",
      "metadata": {
        "id": "fad7a6d3-2dad-4f69-9511-b3728d79d674"
      },
      "source": [
        "### Category: Combinatorics"
      ]
    },
    {
      "cell_type": "markdown",
      "id": "t8BkGMwDnK7k",
      "metadata": {
        "id": "t8BkGMwDnK7k"
      },
      "source": [
        "**User**\n",
        "\n",
        "In a mathematics competition, there are \\\\(10\\\\) questions. A participant must answer \\\\(5\\\\) of these questions, choosing at least \\\\(2\\\\) from the first five questions and at least \\\\(1\\\\) from the last five questions. In how many ways can the participant select the questions?\n"
      ]
    },
    {
      "cell_type": "markdown",
      "id": "tA77PnkhnLHT",
      "metadata": {
        "id": "tA77PnkhnLHT"
      },
      "source": [
        "**User**\n",
        "\n",
        "A club has \\\\(12\\\\) members. It needs to form a committee consisting of \\\\(1\\\\) president, \\\\(1\\\\) vice-president, and \\\\(1\\\\) secretary, none of whom can hold more than one position, and the rest will be regular members of the committee. How many different committees can be formed?"
      ]
    },
    {
      "cell_type": "markdown",
      "id": "RUcEIzAwnLTH",
      "metadata": {
        "id": "RUcEIzAwnLTH"
      },
      "source": [
        "**User**\n",
        "\n",
        "Use the Binomial Theorem to expand \\\\((2x - \\frac{1}{x})^5\\\\). Then, find the coefficient of the \\\\(x^3\\\\) term in the expansion.\n"
      ]
    },
    {
      "cell_type": "markdown",
      "id": "1e51a7bd-33f8-48fd-9e24-374bfb4ef1cb",
      "metadata": {
        "id": "1e51a7bd-33f8-48fd-9e24-374bfb4ef1cb"
      },
      "source": [
        "### Category: Probability and Statistics"
      ]
    },
    {
      "cell_type": "markdown",
      "id": "3PygOlQ8ofLf",
      "metadata": {
        "id": "3PygOlQ8ofLf"
      },
      "source": [
        "**User**\n",
        "\n",
        "In a deck of \\\\(52\\\\) playing cards (\\\\(13\\\\) ranks in each of \\\\(4\\\\) suits), two cards are drawn randomly without replacement. What is the probability that the second card drawn is a heart given that the first card drawn was a queen?"
      ]
    },
    {
      "cell_type": "markdown",
      "id": "n2Ob3JmZofSt",
      "metadata": {
        "id": "n2Ob3JmZofSt"
      },
      "source": [
        "**User**\n",
        "\n",
        "A disease affects \\\\(1\\\\) in \\\\(10,000\\\\) people. There is a test for the disease, but the test is not perfect: it correctly identifies the disease (a true positive) in \\\\(99\\%\\\\) of cases and correctly identifies no disease (a true negative) in \\\\(98\\%\\\\) of cases. If a randomly selected individual tests positive, what is the probability that they actually have the disease?"
      ]
    },
    {
      "cell_type": "markdown",
      "id": "4j3HYc7_ofdJ",
      "metadata": {
        "id": "4j3HYc7_ofdJ"
      },
      "source": [
        "**User**\n",
        "\n",
        "A teacher gave a test to a class of \\\\(5\\\\) students and recorded the following scores: \\\\(82, 76, 91, 68\\\\), and \\\\(88\\\\). Calculate the standard deviation of the test scores to understand how much variation exists from the average score."
      ]
    },
    {
      "cell_type": "markdown",
      "id": "C8RomsYhoaLX",
      "metadata": {
        "id": "C8RomsYhoaLX"
      },
      "source": [
        "**Assistant**\n",
        "\n",
        "Inequality can be transformed as follows\n",
        "\n",
        "\\\\(\\dfrac{1}{2x}+\\dfrac{3}{4x} < \\dfrac{1}{2}\\\\),\n",
        "\n",
        "\\\\(\\dfrac{2}{4x}+\\dfrac{3}{4x} < \\dfrac{1}{2}\\\\),\n",
        "\n",
        "\\\\(\\dfrac{5}{4x} < \\dfrac{1}{2}\\\\),\n",
        "\n",
        "\\\\(\\dfrac{5}{4x} - \\dfrac{1}{2}< 0\\\\),\n",
        "\n",
        "\\\\(\\dfrac{5}{4x} - \\dfrac{2x}{2 \\cdot 2x}< 0\\\\),\n",
        "\n",
        "\\\\(\\dfrac{5}{4x} - \\dfrac{2x}{4x}< 0\\\\),\n",
        "\n",
        "\\\\(\\dfrac{5 -{2x}}{4x}< 0\\\\).\n",
        "\n",
        "In order to decide for which $x$ the inequality is true we make a table:\n",
        "\n",
        "| Expressions | \\\\( x<0\\\\)| \\\\( 0<x<\\dfrac{5}{2}\\\\) | \\\\( x>\\dfrac{5}{2}\\\\)|\n",
        "|--- |:---:|:---:|:---:|\n",
        "| \\\\( {5 -{2x}}\\\\)|     \\\\( + \\\\)     | \\\\( + \\\\) |\\\\( - \\\\)|\n",
        "| \\\\( 4x\\\\)| \\\\( - \\\\) | \\\\( + \\\\) |\\\\( + \\\\) |\n",
        "| \\\\( \\dfrac{5 -{2x}}{4x}\\\\)| \\\\( - \\\\) | \\\\( + \\\\) |\\\\( - \\\\) |\n",
        "\n",
        "Based on the privious table we have the final ranes where the inequality is true, and they are for \\\\( x<0\\\\) and \\\\( x>\\dfrac{5}{2}\\\\)."
      ]
    },
    {
      "cell_type": "markdown",
      "id": "bc4f25e7",
      "metadata": {
        "id": "bc4f25e7"
      },
      "source": [
        "### Category: Multi-Line\n",
        "\n",
        "\n",
        "They should render nicely in Google Colab."
      ]
    },
    {
      "cell_type": "markdown",
      "id": "b2cb142e",
      "metadata": {
        "id": "b2cb142e"
      },
      "source": [
        "\\\\[\n",
        "\\begin{aligned}\n",
        "x &= y + z \\\\\n",
        "a &= b + c\n",
        "\\end{aligned}\n",
        "\\\\]"
      ]
    },
    {
      "cell_type": "markdown",
      "id": "3cc5414b",
      "metadata": {
        "id": "3cc5414b"
      },
      "source": [
        "\\\\[ x = y + z \\\\]\n",
        "\\\\[ a = b + c \\\\]"
      ]
    },
    {
      "cell_type": "markdown",
      "id": "613536aa",
      "metadata": {
        "id": "613536aa"
      },
      "source": [
        "\\\\[y = \\left( \\frac{a + b \\cdot \\cos(\\theta) + \\sin(\\theta) \\cdot \\int_{0}^{\\infty} e^{-t} \\, dt}{c + \\sqrt{d^2 - 4ac}} \\right) \\cdot \\left( \\sum_{n=0}^{\\infty} \\frac{x^n}{n!} \\right) + \\ln \\left( \\frac{1 + \\sqrt{1 - x^2}}{x} \\right) \\cdot \\left( \\frac{d}{dx} \\left( e^{x^2} \\cdot \\int_{0}^{x} e^{-t^2} \\, dt \\right) \\right) + \\left( \\int_{a}^{b} \\frac{\\sin(x)}{x} \\, dx \\right) \\cdot \\left( \\sum_{k=1}^{\\infty} \\frac{(-1)^{k+1}}{k} \\cdot e^{-kx} \\right) + \\lim_{n \\to \\infty} \\left( 1 + \\frac{1}{n} \\right)^n \\cdot \\left( \\prod_{k=1}^{n} \\left( 1 + \\frac{x}{k} \\right) \\right) - \\zeta(2) + \\left( \\frac{1}{2\\pi i} \\int_{c-i\\infty}^{c+i\\infty} \\frac{e^s}{s^2 - s - 2} \\, ds \\right) \\cdot \\left( \\int_{0}^{1} \\sqrt{1 - x^2} \\, dx \\right) + \\sum_{n=1}^{\\infty} \\frac{1}{n^2}\\\\]"
      ]
    },
    {
      "cell_type": "markdown",
      "id": "1ef957d1",
      "metadata": {
        "id": "1ef957d1"
      },
      "source": [
        "\\\\[y = \\left( \\frac{a + b \\cdot \\cos(\\theta) + \\sin(\\theta) \\cdot \\int_{0}^{\\infty} e^{-t} \\, dt}{c + \\sqrt{d^2 - 4ac}} \\right) + \\\\]\n",
        "\n",
        "\\\\[+ \\left( \\sum_{n=0}^{\\infty} \\frac{x^n}{n!} \\right) + \\ln \\left( \\frac{1 + \\sqrt{1 - x^2}}{x} \\right) \\cdot \\left( \\frac{d}{dx} \\left( e^{x^2} \\cdot \\int_{0}^{x} e^{-t^2} \\, dt \\right) \\right) + \\\\]\n",
        "\n",
        "\\\\[+ \\left( \\int_{a}^{b} \\frac{\\sin(x)}{x} \\, dx \\right) \\cdot \\left( \\sum_{k=1}^{\\infty} \\frac{(-1)^{k+1}}{k} \\cdot e^{-kx} \\right) \\cdot \\lim_{n \\to \\infty} \\left( 1 + \\frac{1}{n} \\right)^n \\cdot \\left( \\prod_{k=1}^{n} \\left( 1 + \\frac{x}{k} \\right) \\right) - \\zeta(2) + \\\\]\n",
        "\n",
        "\\\\[+ \\left( \\frac{1}{2\\pi i} \\int_{c-i\\infty}^{c+i\\infty} \\frac{e^s}{s^2 - s - 2} \\, ds \\right) \\cdot \\left( \\int_{0}^{1} \\sqrt{1 - x^2} \\, dx \\right) + \\sum_{n=1}^{\\infty} \\frac{1}{n^2}\\\\]"
      ]
    }
  ],
  "metadata": {
    "colab": {
      "provenance": [],
      "include_colab_link": true
    },
    "kernelspec": {
      "display_name": "Python 3 (ipykernel)",
      "language": "python",
      "name": "python3"
    },
    "language_info": {
      "codemirror_mode": {
        "name": "ipython",
        "version": 3
      },
      "file_extension": ".py",
      "mimetype": "text/x-python",
      "name": "python",
      "nbconvert_exporter": "python",
      "pygments_lexer": "ipython3",
      "version": "3.10.8"
    }
  },
  "nbformat": 4,
  "nbformat_minor": 5
}